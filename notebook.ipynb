{
 "cells": [
  {
   "cell_type": "code",
   "execution_count": 1,
   "metadata": {},
   "outputs": [],
   "source": [
    "import pandas as pd"
   ]
  },
  {
   "cell_type": "code",
   "execution_count": 6,
   "metadata": {},
   "outputs": [],
   "source": [
    "\n",
    "df = pd.read_csv('dane.csv', sep=';', index_col=0)"
   ]
  },
  {
   "cell_type": "code",
   "execution_count": 7,
   "metadata": {},
   "outputs": [
    {
     "data": {
      "text/html": [
       "<div>\n",
       "<style scoped>\n",
       "    .dataframe tbody tr th:only-of-type {\n",
       "        vertical-align: middle;\n",
       "    }\n",
       "\n",
       "    .dataframe tbody tr th {\n",
       "        vertical-align: top;\n",
       "    }\n",
       "\n",
       "    .dataframe thead th {\n",
       "        text-align: right;\n",
       "    }\n",
       "</style>\n",
       "<table border=\"1\" class=\"dataframe\">\n",
       "  <thead>\n",
       "    <tr style=\"text-align: right;\">\n",
       "      <th></th>\n",
       "      <th>Cel</th>\n",
       "      <th>Aktywa</th>\n",
       "      <th>Płeć</th>\n",
       "      <th>Stan cywilny</th>\n",
       "      <th>Mieszkanie</th>\n",
       "      <th>Praca</th>\n",
       "      <th>Okres</th>\n",
       "      <th>Wiek</th>\n",
       "      <th>Ocena</th>\n",
       "    </tr>\n",
       "  </thead>\n",
       "  <tbody>\n",
       "    <tr>\n",
       "      <th>1</th>\n",
       "      <td>Drobne AGD</td>\n",
       "      <td>Bardzo niskie</td>\n",
       "      <td>M</td>\n",
       "      <td>Samotna(y)</td>\n",
       "      <td>Własne</td>\n",
       "      <td>Fizyczny</td>\n",
       "      <td>13</td>\n",
       "      <td>23</td>\n",
       "      <td>Dobra</td>\n",
       "    </tr>\n",
       "    <tr>\n",
       "      <th>2</th>\n",
       "      <td>Meble</td>\n",
       "      <td>Niskie</td>\n",
       "      <td>M</td>\n",
       "      <td>Rozwiedziona(y)</td>\n",
       "      <td>Własne</td>\n",
       "      <td>Umysłowy</td>\n",
       "      <td>25</td>\n",
       "      <td>32</td>\n",
       "      <td>Zła</td>\n",
       "    </tr>\n",
       "    <tr>\n",
       "      <th>3</th>\n",
       "      <td>Nowy samochód</td>\n",
       "      <td>Bardzo niskie</td>\n",
       "      <td>M</td>\n",
       "      <td>Samotna(y)</td>\n",
       "      <td>Własne</td>\n",
       "      <td>Umysłowy</td>\n",
       "      <td>19</td>\n",
       "      <td>38</td>\n",
       "      <td>Zła</td>\n",
       "    </tr>\n",
       "    <tr>\n",
       "      <th>4</th>\n",
       "      <td>Meble</td>\n",
       "      <td>Bardzo niskie</td>\n",
       "      <td>M</td>\n",
       "      <td>Samotna(y)</td>\n",
       "      <td>Własne</td>\n",
       "      <td>Fizyczny</td>\n",
       "      <td>13</td>\n",
       "      <td>36</td>\n",
       "      <td>Zła</td>\n",
       "    </tr>\n",
       "    <tr>\n",
       "      <th>5</th>\n",
       "      <td>Edukacja</td>\n",
       "      <td>Niskie</td>\n",
       "      <td>M</td>\n",
       "      <td>Samotna(y)</td>\n",
       "      <td>Wynajem</td>\n",
       "      <td>Umysłowy</td>\n",
       "      <td>40</td>\n",
       "      <td>31</td>\n",
       "      <td>Dobra</td>\n",
       "    </tr>\n",
       "  </tbody>\n",
       "</table>\n",
       "</div>"
      ],
      "text/plain": [
       "             Cel         Aktywa Płeć     Stan cywilny Mieszkanie     Praca  \\\n",
       "1     Drobne AGD  Bardzo niskie    M       Samotna(y)     Własne  Fizyczny   \n",
       "2          Meble         Niskie    M  Rozwiedziona(y)     Własne  Umysłowy   \n",
       "3  Nowy samochód  Bardzo niskie    M       Samotna(y)     Własne  Umysłowy   \n",
       "4          Meble  Bardzo niskie    M       Samotna(y)     Własne  Fizyczny   \n",
       "5       Edukacja         Niskie    M       Samotna(y)    Wynajem  Umysłowy   \n",
       "\n",
       "   Okres  Wiek  Ocena  \n",
       "1     13    23  Dobra  \n",
       "2     25    32    Zła  \n",
       "3     19    38    Zła  \n",
       "4     13    36    Zła  \n",
       "5     40    31  Dobra  "
      ]
     },
     "execution_count": 7,
     "metadata": {},
     "output_type": "execute_result"
    }
   ],
   "source": [
    "df.head()"
   ]
  },
  {
   "cell_type": "code",
   "execution_count": null,
   "metadata": {},
   "outputs": [],
   "source": [
    "# Kodowanie zero jedynkowo\n"
   ]
  }
 ],
 "metadata": {
  "kernelspec": {
   "display_name": "base",
   "language": "python",
   "name": "python3"
  },
  "language_info": {
   "codemirror_mode": {
    "name": "ipython",
    "version": 3
   },
   "file_extension": ".py",
   "mimetype": "text/x-python",
   "name": "python",
   "nbconvert_exporter": "python",
   "pygments_lexer": "ipython3",
   "version": "3.10.9"
  },
  "orig_nbformat": 4
 },
 "nbformat": 4,
 "nbformat_minor": 2
}
